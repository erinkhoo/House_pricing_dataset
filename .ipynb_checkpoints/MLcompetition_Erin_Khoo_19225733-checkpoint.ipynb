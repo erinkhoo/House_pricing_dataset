{
 "cells": [
  {
   "cell_type": "markdown",
   "metadata": {
    "colab_type": "text",
    "id": "NAqYwktYTE6e"
   },
   "source": [
    "|Name|Student ID|\n",
    "|-|-|\n",
    "|Erin Khoo|19225733|\n",
    "|CS5062 & CE6002|ML Competition 2020|\n",
    "\n",
    "# Results (300 words)\n",
    "\n",
    "## EDA\n",
    "- loaded the data from a Github hosted repo since I have been having trouble with Anaconda environments for a couple weeks\n",
    "- explore `train` and `test` data\n",
    "  - scatter matrix\n",
    "  - standard correlation coefficient (Pearson's r)\n",
    "  - \n",
    "\n",
    "To-Do:\n",
    "- Clean dataset\n",
    "- Scaling numerical features\n",
    "- one-hot encoding categorical\n",
    "- Managing missing data\n",
    "- Dimentionality reduction\n",
    "\n",
    "For any algorithm you try:\n",
    "- applying it correctly (that is you must be sure you have formatted the input in the format that the algorithm needs, you must be sure you understand what the algorithm returns as output)\n",
    "- if an algorithm has parameters you need to select (example: the degree in polynomial regression, the parameter C (sklearn notation) in logistic regression), you must **show** that you understand their meaning and that you are optimizing them via cross-validation.\n",
    "- you must add a brief high-level description of the algorithm you are trying and an explanation of the meaning of its parameters\n",
    "  - e.g. logistic classifier is a probabilistic linear classifier, it maximizes the log-likelihood and it uses a L2 reguralisation weighted by a scalar 1/C: C is a nonnegative number, smaller C means more reguralisation, C equal to infinity means no-reguralisation) in a markdown cell before using the algorithm.\n",
    "- you must show that you are not only exploring different ML techniques, but that you are trying to **find the best algorithm** to solve the competition. You must  show us that you have critically analysed the performance of your algorithm, you have understood its weakness and strength and that you have tried to improve it (for instance by tuning the algorithm for this competition or by combining algorithms).\n"
   ]
  },
  {
   "cell_type": "markdown",
   "metadata": {
    "colab_type": "text",
    "id": "k4CQadpxTE6f"
   },
   "source": [
    "## load datasets"
   ]
  },
  {
   "cell_type": "code",
   "execution_count": 0,
   "metadata": {
    "colab": {},
    "colab_type": "code",
    "id": "o2tdX5EPTE6g"
   },
   "outputs": [],
   "source": [
    "# EDA\n",
    "import numpy as np\n",
    "import pandas as pd\n",
    "import seaborn\n",
    "import matplotlib.pyplot as plt\n",
    "import matplotlib.image as mpimg\n",
    "from pandas.plotting import scatter_matrix\n",
    "\n",
    "\n",
    "# preprocessing\n",
    "from sklearn import preprocessing\n",
    "from sklearn.pipeline import Pipeline\n",
    "from sklearn.compose import ColumnTransformer\n",
    "from sklearn.impute import SimpleImputer\n",
    "from sklearn.preprocessing import LabelEncoder\n",
    "from sklearn.preprocessing import OrdinalEncoder\n",
    "from sklearn.preprocessing import OneHotEncoder\n",
    "from sklearn.preprocessing import StandardScaler\n",
    "from sklearn.decomposition import pca\n",
    "import sklearn.decomposition\n",
    "\n",
    "from scipy.stats import skew\n",
    "\n",
    "# algos\n",
    "import xgboost as xgb\n",
    "from sklearn.model_selection import GridSearchCV\n",
    "from sklearn.linear_model import LinearRegression\n",
    "from sklearn.ensemble import ExtraTreesRegressor\n",
    "from sklearn.ensemble import GradientBoostingRegressor\n",
    "from sklearn.svm import SVC\n",
    "from sklearn.svm import SVR"
   ]
  },
  {
   "cell_type": "code",
   "execution_count": 2,
   "metadata": {
    "colab": {
     "base_uri": "https://localhost:8080/",
     "height": 407
    },
    "colab_type": "code",
    "executionInfo": {
     "elapsed": 7832,
     "status": "ok",
     "timestamp": 1587904181136,
     "user": {
      "displayName": "Erin Khoo",
      "photoUrl": "https://lh3.googleusercontent.com/a-/AOh14GhHZgGAOsO63SCrVGuUu9PLAOiJ6M2MBHqs5Xurxw=s64",
      "userId": "12576091199293885088"
     },
     "user_tz": -60
    },
    "id": "4QX0-D6ViB7e",
    "outputId": "5b85b5b8-e1d7-4e31-f859-9644da0b262f"
   },
   "outputs": [
    {
     "name": "stdout",
     "output_type": "stream",
     "text": [
      "--2020-04-26 12:29:34--  https://raw.githubusercontent.com/erinkhoo/House_pricing_dataset/master/dataset_csv/train.csv\n",
      "Resolving raw.githubusercontent.com (raw.githubusercontent.com)... 151.101.0.133, 151.101.64.133, 151.101.128.133, ...\n",
      "Connecting to raw.githubusercontent.com (raw.githubusercontent.com)|151.101.0.133|:443... connected.\n",
      "HTTP request sent, awaiting response... 200 OK\n",
      "Length: 7862808 (7.5M) [text/plain]\n",
      "Saving to: ‘train.csv’\n",
      "\n",
      "train.csv           100%[===================>]   7.50M  16.3MB/s    in 0.5s    \n",
      "\n",
      "2020-04-26 12:29:36 (16.3 MB/s) - ‘train.csv’ saved [7862808/7862808]\n",
      "\n",
      "--2020-04-26 12:29:38--  https://raw.githubusercontent.com/erinkhoo/House_pricing_dataset/master/dataset_csv/test.csv\n",
      "Resolving raw.githubusercontent.com (raw.githubusercontent.com)... 151.101.0.133, 151.101.64.133, 151.101.128.133, ...\n",
      "Connecting to raw.githubusercontent.com (raw.githubusercontent.com)|151.101.0.133|:443... connected.\n",
      "HTTP request sent, awaiting response... 200 OK\n",
      "Length: 1375916 (1.3M) [text/plain]\n",
      "Saving to: ‘test.csv’\n",
      "\n",
      "test.csv            100%[===================>]   1.31M  8.15MB/s    in 0.2s    \n",
      "\n",
      "2020-04-26 12:29:39 (8.15 MB/s) - ‘test.csv’ saved [1375916/1375916]\n",
      "\n"
     ]
    }
   ],
   "source": [
    "# load data\n",
    "!wget https://raw.githubusercontent.com/erinkhoo/House_pricing_dataset/master/dataset_csv/train.csv\n",
    "!wget https://raw.githubusercontent.com/erinkhoo/House_pricing_dataset/master/dataset_csv/test.csv"
   ]
  },
  {
   "cell_type": "code",
   "execution_count": 103,
   "metadata": {
    "colab": {
     "base_uri": "https://localhost:8080/",
     "height": 204
    },
    "colab_type": "code",
    "executionInfo": {
     "elapsed": 1127,
     "status": "error",
     "timestamp": 1587912693027,
     "user": {
      "displayName": "Erin Khoo",
      "photoUrl": "https://lh3.googleusercontent.com/a-/AOh14GhHZgGAOsO63SCrVGuUu9PLAOiJ6M2MBHqs5Xurxw=s64",
      "userId": "12576091199293885088"
     },
     "user_tz": -60
    },
    "id": "CCEQCESVZ5U9",
    "outputId": "c10b4f64-ce7f-4615-d6e1-23e4ef8a4ee6"
   },
   "outputs": [
    {
     "ename": "TypeError",
     "evalue": "ignored",
     "output_type": "error",
     "traceback": [
      "\u001b[0;31m---------------------------------------------------------------------------\u001b[0m",
      "\u001b[0;31mTypeError\u001b[0m                                 Traceback (most recent call last)",
      "\u001b[0;32m<ipython-input-103-2e75f044e912>\u001b[0m in \u001b[0;36m<module>\u001b[0;34m()\u001b[0m\n\u001b[1;32m      1\u001b[0m \u001b[0mdftrain\u001b[0m \u001b[0;34m=\u001b[0m \u001b[0mpd\u001b[0m\u001b[0;34m.\u001b[0m\u001b[0mread_csv\u001b[0m\u001b[0;34m(\u001b[0m\u001b[0;34m\"train.csv\"\u001b[0m\u001b[0;34m,\u001b[0m\u001b[0mindex_col\u001b[0m\u001b[0;34m=\u001b[0m\u001b[0;34m'ad_id'\u001b[0m\u001b[0;34m)\u001b[0m\u001b[0;34m\u001b[0m\u001b[0;34m\u001b[0m\u001b[0m\n\u001b[1;32m      2\u001b[0m \u001b[0mdftest\u001b[0m  \u001b[0;34m=\u001b[0m \u001b[0mpd\u001b[0m\u001b[0;34m.\u001b[0m\u001b[0mread_csv\u001b[0m\u001b[0;34m(\u001b[0m\u001b[0;34m\"test.csv\"\u001b[0m\u001b[0;34m,\u001b[0m\u001b[0mindex_col\u001b[0m\u001b[0;34m=\u001b[0m\u001b[0;34m'ad_id'\u001b[0m\u001b[0;34m)\u001b[0m\u001b[0;34m\u001b[0m\u001b[0;34m\u001b[0m\u001b[0m\n\u001b[0;32m----> 3\u001b[0;31m \u001b[0mdftrain\u001b[0m\u001b[0;34m.\u001b[0m\u001b[0mshape\u001b[0m\u001b[0;34m(\u001b[0m\u001b[0;34m)\u001b[0m\u001b[0;34m\u001b[0m\u001b[0;34m\u001b[0m\u001b[0m\n\u001b[0m",
      "\u001b[0;31mTypeError\u001b[0m: 'tuple' object is not callable"
     ]
    }
   ],
   "source": [
    "dftrain = pd.read_csv(\"train.csv\",index_col='ad_id')\n",
    "dftest  = pd.read_csv(\"test.csv\",index_col='ad_id')"
   ]
  },
  {
   "cell_type": "markdown",
   "metadata": {
    "colab_type": "text",
    "id": "-pbOFHywRSK9"
   },
   "source": [
    "## EDA & Visualisations"
   ]
  },
  {
   "cell_type": "code",
   "execution_count": 6,
   "metadata": {
    "colab": {
     "base_uri": "https://localhost:8080/",
     "height": 287
    },
    "colab_type": "code",
    "executionInfo": {
     "elapsed": 572,
     "status": "ok",
     "timestamp": 1587841359597,
     "user": {
      "displayName": "Erin Khoo",
      "photoUrl": "https://lh3.googleusercontent.com/a-/AOh14GhHZgGAOsO63SCrVGuUu9PLAOiJ6M2MBHqs5Xurxw=s64",
      "userId": "12576091199293885088"
     },
     "user_tz": -60
    },
    "id": "eCD9JeEHTE6j",
    "outputId": "2af9277c-7aac-40d9-c53d-de85e1f80533"
   },
   "outputs": [
    {
     "data": {
      "text/html": [
       "<div>\n",
       "<style scoped>\n",
       "    .dataframe tbody tr th:only-of-type {\n",
       "        vertical-align: middle;\n",
       "    }\n",
       "\n",
       "    .dataframe tbody tr th {\n",
       "        vertical-align: top;\n",
       "    }\n",
       "\n",
       "    .dataframe thead th {\n",
       "        text-align: right;\n",
       "    }\n",
       "</style>\n",
       "<table border=\"1\" class=\"dataframe\">\n",
       "  <thead>\n",
       "    <tr style=\"text-align: right;\">\n",
       "      <th></th>\n",
       "      <th>area</th>\n",
       "      <th>bathrooms</th>\n",
       "      <th>beds</th>\n",
       "      <th>ber_classification</th>\n",
       "      <th>county</th>\n",
       "      <th>description_block</th>\n",
       "      <th>environment</th>\n",
       "      <th>facility</th>\n",
       "      <th>features</th>\n",
       "      <th>latitude</th>\n",
       "      <th>longitude</th>\n",
       "      <th>no_of_units</th>\n",
       "      <th>price</th>\n",
       "      <th>property_category</th>\n",
       "      <th>property_type</th>\n",
       "      <th>surface</th>\n",
       "    </tr>\n",
       "    <tr>\n",
       "      <th>ad_id</th>\n",
       "      <th></th>\n",
       "      <th></th>\n",
       "      <th></th>\n",
       "      <th></th>\n",
       "      <th></th>\n",
       "      <th></th>\n",
       "      <th></th>\n",
       "      <th></th>\n",
       "      <th></th>\n",
       "      <th></th>\n",
       "      <th></th>\n",
       "      <th></th>\n",
       "      <th></th>\n",
       "      <th></th>\n",
       "      <th></th>\n",
       "      <th></th>\n",
       "    </tr>\n",
       "  </thead>\n",
       "  <tbody>\n",
       "    <tr>\n",
       "      <th>996887</th>\n",
       "      <td>Portmarnock</td>\n",
       "      <td>NaN</td>\n",
       "      <td>NaN</td>\n",
       "      <td>NaN</td>\n",
       "      <td>Dublin</td>\n",
       "      <td>A SELECTION OF 4 AND 5 BEDROOM FAMILY HOMES LO...</td>\n",
       "      <td>prod</td>\n",
       "      <td>NaN</td>\n",
       "      <td>None</td>\n",
       "      <td>53.418216</td>\n",
       "      <td>-6.149329</td>\n",
       "      <td>18.0</td>\n",
       "      <td>NaN</td>\n",
       "      <td>new_development_parent</td>\n",
       "      <td>NaN</td>\n",
       "      <td>NaN</td>\n",
       "    </tr>\n",
       "    <tr>\n",
       "      <th>999327</th>\n",
       "      <td>Lucan</td>\n",
       "      <td>NaN</td>\n",
       "      <td>NaN</td>\n",
       "      <td>NaN</td>\n",
       "      <td>Dublin</td>\n",
       "      <td>**Last 2 remaining houses for sale ***\\n\\nOn v...</td>\n",
       "      <td>prod</td>\n",
       "      <td>NaN</td>\n",
       "      <td>None</td>\n",
       "      <td>53.364917</td>\n",
       "      <td>-6.454935</td>\n",
       "      <td>3.0</td>\n",
       "      <td>NaN</td>\n",
       "      <td>new_development_parent</td>\n",
       "      <td>NaN</td>\n",
       "      <td>NaN</td>\n",
       "    </tr>\n",
       "    <tr>\n",
       "      <th>999559</th>\n",
       "      <td>Rathfarnham</td>\n",
       "      <td>NaN</td>\n",
       "      <td>NaN</td>\n",
       "      <td>NaN</td>\n",
       "      <td>Dublin</td>\n",
       "      <td>Final 4 &amp;amp; 5 Bedroom Homes for Sale\\n\\nOn V...</td>\n",
       "      <td>prod</td>\n",
       "      <td>NaN</td>\n",
       "      <td>None</td>\n",
       "      <td>53.273447</td>\n",
       "      <td>-6.313821</td>\n",
       "      <td>3.0</td>\n",
       "      <td>NaN</td>\n",
       "      <td>new_development_parent</td>\n",
       "      <td>NaN</td>\n",
       "      <td>NaN</td>\n",
       "    </tr>\n",
       "  </tbody>\n",
       "</table>\n",
       "</div>"
      ],
      "text/plain": [
       "               area  bathrooms  ...  property_type surface\n",
       "ad_id                           ...                       \n",
       "996887  Portmarnock        NaN  ...            NaN     NaN\n",
       "999327        Lucan        NaN  ...            NaN     NaN\n",
       "999559  Rathfarnham        NaN  ...            NaN     NaN\n",
       "\n",
       "[3 rows x 16 columns]"
      ]
     },
     "execution_count": 6,
     "metadata": {
      "tags": []
     },
     "output_type": "execute_result"
    }
   ],
   "source": [
    "# dataframe exploration\n",
    "dftrain.head(3)"
   ]
  },
  {
   "cell_type": "code",
   "execution_count": 6,
   "metadata": {
    "colab": {
     "base_uri": "https://localhost:8080/",
     "height": 287
    },
    "colab_type": "code",
    "executionInfo": {
     "elapsed": 678,
     "status": "ok",
     "timestamp": 1587804897439,
     "user": {
      "displayName": "Erin Khoo",
      "photoUrl": "https://lh3.googleusercontent.com/a-/AOh14GhHZgGAOsO63SCrVGuUu9PLAOiJ6M2MBHqs5Xurxw=s64",
      "userId": "12576091199293885088"
     },
     "user_tz": -60
    },
    "id": "1GG2IcYNp9ng",
    "outputId": "685d2729-479c-4d7c-9f88-8c35f47cdb4e"
   },
   "outputs": [
    {
     "data": {
      "text/html": [
       "<div>\n",
       "<style scoped>\n",
       "    .dataframe tbody tr th:only-of-type {\n",
       "        vertical-align: middle;\n",
       "    }\n",
       "\n",
       "    .dataframe tbody tr th {\n",
       "        vertical-align: top;\n",
       "    }\n",
       "\n",
       "    .dataframe thead th {\n",
       "        text-align: right;\n",
       "    }\n",
       "</style>\n",
       "<table border=\"1\" class=\"dataframe\">\n",
       "  <thead>\n",
       "    <tr style=\"text-align: right;\">\n",
       "      <th></th>\n",
       "      <th>area</th>\n",
       "      <th>bathrooms</th>\n",
       "      <th>beds</th>\n",
       "      <th>ber_classification</th>\n",
       "      <th>county</th>\n",
       "      <th>description_block</th>\n",
       "      <th>environment</th>\n",
       "      <th>facility</th>\n",
       "      <th>features</th>\n",
       "      <th>latitude</th>\n",
       "      <th>longitude</th>\n",
       "      <th>no_of_units</th>\n",
       "      <th>property_category</th>\n",
       "      <th>property_type</th>\n",
       "      <th>surface</th>\n",
       "    </tr>\n",
       "    <tr>\n",
       "      <th>ad_id</th>\n",
       "      <th></th>\n",
       "      <th></th>\n",
       "      <th></th>\n",
       "      <th></th>\n",
       "      <th></th>\n",
       "      <th></th>\n",
       "      <th></th>\n",
       "      <th></th>\n",
       "      <th></th>\n",
       "      <th></th>\n",
       "      <th></th>\n",
       "      <th></th>\n",
       "      <th></th>\n",
       "      <th></th>\n",
       "      <th></th>\n",
       "    </tr>\n",
       "  </thead>\n",
       "  <tbody>\n",
       "    <tr>\n",
       "      <th>12373510</th>\n",
       "      <td>Skerries</td>\n",
       "      <td>2.0</td>\n",
       "      <td>4.0</td>\n",
       "      <td>G</td>\n",
       "      <td>Dublin</td>\n",
       "      <td>It's all in the name \"Island View\";. Truly won...</td>\n",
       "      <td>prod</td>\n",
       "      <td>Parking,Alarm,Oil Fired Central Heating</td>\n",
       "      <td>Breath-taking panoramic views radiate from thi...</td>\n",
       "      <td>53.566881</td>\n",
       "      <td>-6.101148</td>\n",
       "      <td>NaN</td>\n",
       "      <td>sale</td>\n",
       "      <td>bungalow</td>\n",
       "      <td>142.0</td>\n",
       "    </tr>\n",
       "    <tr>\n",
       "      <th>12422623</th>\n",
       "      <td>Lucan</td>\n",
       "      <td>2.0</td>\n",
       "      <td>3.0</td>\n",
       "      <td>C1</td>\n",
       "      <td>Dublin</td>\n",
       "      <td>REA McDonald - Lucan' s longest established es...</td>\n",
       "      <td>prod</td>\n",
       "      <td>NaN</td>\n",
       "      <td>Gas fired central heating.\\nDouble glazed wind...</td>\n",
       "      <td>53.362992</td>\n",
       "      <td>-6.452909</td>\n",
       "      <td>NaN</td>\n",
       "      <td>sale</td>\n",
       "      <td>terraced</td>\n",
       "      <td>114.0</td>\n",
       "    </tr>\n",
       "    <tr>\n",
       "      <th>12377408</th>\n",
       "      <td>Swords</td>\n",
       "      <td>3.0</td>\n",
       "      <td>4.0</td>\n",
       "      <td>B3</td>\n",
       "      <td>Dublin</td>\n",
       "      <td>REA Grimes are proud to present to the market ...</td>\n",
       "      <td>prod</td>\n",
       "      <td>NaN</td>\n",
       "      <td>Pristine condition throughout\\nHighly sought-a...</td>\n",
       "      <td>53.454198</td>\n",
       "      <td>-6.262964</td>\n",
       "      <td>NaN</td>\n",
       "      <td>sale</td>\n",
       "      <td>semi-detached</td>\n",
       "      <td>172.0</td>\n",
       "    </tr>\n",
       "  </tbody>\n",
       "</table>\n",
       "</div>"
      ],
      "text/plain": [
       "              area  bathrooms  beds  ... property_category  property_type surface\n",
       "ad_id                                ...                                         \n",
       "12373510  Skerries        2.0   4.0  ...              sale       bungalow   142.0\n",
       "12422623     Lucan        2.0   3.0  ...              sale       terraced   114.0\n",
       "12377408    Swords        3.0   4.0  ...              sale  semi-detached   172.0\n",
       "\n",
       "[3 rows x 15 columns]"
      ]
     },
     "execution_count": 6,
     "metadata": {
      "tags": []
     },
     "output_type": "execute_result"
    }
   ],
   "source": [
    "dftest.head(3)"
   ]
  },
  {
   "cell_type": "code",
   "execution_count": 5,
   "metadata": {
    "colab": {
     "base_uri": "https://localhost:8080/",
     "height": 625
    },
    "colab_type": "code",
    "executionInfo": {
     "elapsed": 4754,
     "status": "ok",
     "timestamp": 1587671178577,
     "user": {
      "displayName": "Erin Khoo",
      "photoUrl": "https://lh3.googleusercontent.com/a-/AOh14GhHZgGAOsO63SCrVGuUu9PLAOiJ6M2MBHqs5Xurxw=s64",
      "userId": "12576091199293885088"
     },
     "user_tz": -60
    },
    "id": "AYJ2CdqLDN_u",
    "outputId": "81ea1974-fd03-4eb6-cd41-a652f74a8c59"
   },
   "outputs": [
    {
     "data": {
      "image/png": "[encoded data removed]",
      "text/plain": [
       "<Figure size 1080x720 with 49 Axes>"
      ]
     },
     "metadata": {
      "needs_background": "light",
      "tags": []
     },
     "output_type": "display_data"
    }
   ],
   "source": [
    "# scatterplot matrix on numerical features\n",
    "scatter_matrix(dftrain, figsize=(15,10), alpha=.9, diagonal='kde')\n",
    "plt.show()"
   ]
  },
  {
   "cell_type": "markdown",
   "metadata": {
    "colab_type": "text",
    "id": "TwRanaIkxrJJ"
   },
   "source": []
  },
  {
   "cell_type": "markdown",
   "metadata": {
    "colab_type": "text",
    "id": "V7FWNXFTqlEw"
   },
   "source": [
    "### Numerical feature Review\n",
    "- `price` (the target variable) has a correlation with `bathrooms`, `beds`, `latitude`, `longitude` and `no_of_units`\n",
    "  - location matters\n",
    "  - 'size' of house matters\n",
    "  - `no_of_units` has a negative correlation to `price`"
   ]
  },
  {
   "cell_type": "code",
   "execution_count": 22,
   "metadata": {
    "colab": {
     "base_uri": "https://localhost:8080/",
     "height": 287
    },
    "colab_type": "code",
    "executionInfo": {
     "elapsed": 1396,
     "status": "ok",
     "timestamp": 1587842041384,
     "user": {
      "displayName": "Erin Khoo",
      "photoUrl": "https://lh3.googleusercontent.com/a-/AOh14GhHZgGAOsO63SCrVGuUu9PLAOiJ6M2MBHqs5Xurxw=s64",
      "userId": "12576091199293885088"
     },
     "user_tz": -60
    },
    "id": "MlPxhstOwBUw",
    "outputId": "3b00f8c1-13fa-4ce8-bd11-88efba0a6a46"
   },
   "outputs": [
    {
     "data": {
      "text/html": [
       "<div>\n",
       "<style scoped>\n",
       "    .dataframe tbody tr th:only-of-type {\n",
       "        vertical-align: middle;\n",
       "    }\n",
       "\n",
       "    .dataframe tbody tr th {\n",
       "        vertical-align: top;\n",
       "    }\n",
       "\n",
       "    .dataframe thead th {\n",
       "        text-align: right;\n",
       "    }\n",
       "</style>\n",
       "<table border=\"1\" class=\"dataframe\">\n",
       "  <thead>\n",
       "    <tr style=\"text-align: right;\">\n",
       "      <th></th>\n",
       "      <th>bathrooms</th>\n",
       "      <th>beds</th>\n",
       "      <th>latitude</th>\n",
       "      <th>longitude</th>\n",
       "      <th>no_of_units</th>\n",
       "      <th>price</th>\n",
       "      <th>surface</th>\n",
       "    </tr>\n",
       "  </thead>\n",
       "  <tbody>\n",
       "    <tr>\n",
       "      <th>count</th>\n",
       "      <td>2931.000000</td>\n",
       "      <td>2931.000000</td>\n",
       "      <td>2982.000000</td>\n",
       "      <td>2982.000000</td>\n",
       "      <td>59.000000</td>\n",
       "      <td>2.892000e+03</td>\n",
       "      <td>2431.000000</td>\n",
       "    </tr>\n",
       "    <tr>\n",
       "      <th>mean</th>\n",
       "      <td>1.998635</td>\n",
       "      <td>2.979188</td>\n",
       "      <td>53.355991</td>\n",
       "      <td>-6.257175</td>\n",
       "      <td>7.440678</td>\n",
       "      <td>5.323536e+05</td>\n",
       "      <td>318.851787</td>\n",
       "    </tr>\n",
       "    <tr>\n",
       "      <th>std</th>\n",
       "      <td>1.291875</td>\n",
       "      <td>1.468408</td>\n",
       "      <td>0.086748</td>\n",
       "      <td>0.141906</td>\n",
       "      <td>8.937081</td>\n",
       "      <td>5.678148e+05</td>\n",
       "      <td>4389.423136</td>\n",
       "    </tr>\n",
       "    <tr>\n",
       "      <th>min</th>\n",
       "      <td>0.000000</td>\n",
       "      <td>0.000000</td>\n",
       "      <td>51.458439</td>\n",
       "      <td>-6.521183</td>\n",
       "      <td>0.000000</td>\n",
       "      <td>1.999500e+04</td>\n",
       "      <td>3.400000</td>\n",
       "    </tr>\n",
       "    <tr>\n",
       "      <th>25%</th>\n",
       "      <td>1.000000</td>\n",
       "      <td>2.000000</td>\n",
       "      <td>53.298929</td>\n",
       "      <td>-6.314064</td>\n",
       "      <td>2.000000</td>\n",
       "      <td>2.800000e+05</td>\n",
       "      <td>74.100000</td>\n",
       "    </tr>\n",
       "    <tr>\n",
       "      <th>50%</th>\n",
       "      <td>2.000000</td>\n",
       "      <td>3.000000</td>\n",
       "      <td>53.345497</td>\n",
       "      <td>-6.252254</td>\n",
       "      <td>3.000000</td>\n",
       "      <td>3.800000e+05</td>\n",
       "      <td>100.000000</td>\n",
       "    </tr>\n",
       "    <tr>\n",
       "      <th>75%</th>\n",
       "      <td>3.000000</td>\n",
       "      <td>4.000000</td>\n",
       "      <td>53.388845</td>\n",
       "      <td>-6.196049</td>\n",
       "      <td>8.000000</td>\n",
       "      <td>5.750000e+05</td>\n",
       "      <td>142.000000</td>\n",
       "    </tr>\n",
       "    <tr>\n",
       "      <th>max</th>\n",
       "      <td>18.000000</td>\n",
       "      <td>27.000000</td>\n",
       "      <td>53.630588</td>\n",
       "      <td>-1.744995</td>\n",
       "      <td>36.000000</td>\n",
       "      <td>9.995000e+06</td>\n",
       "      <td>182108.539008</td>\n",
       "    </tr>\n",
       "  </tbody>\n",
       "</table>\n",
       "</div>"
      ],
      "text/plain": [
       "         bathrooms         beds  ...         price        surface\n",
       "count  2931.000000  2931.000000  ...  2.892000e+03    2431.000000\n",
       "mean      1.998635     2.979188  ...  5.323536e+05     318.851787\n",
       "std       1.291875     1.468408  ...  5.678148e+05    4389.423136\n",
       "min       0.000000     0.000000  ...  1.999500e+04       3.400000\n",
       "25%       1.000000     2.000000  ...  2.800000e+05      74.100000\n",
       "50%       2.000000     3.000000  ...  3.800000e+05     100.000000\n",
       "75%       3.000000     4.000000  ...  5.750000e+05     142.000000\n",
       "max      18.000000    27.000000  ...  9.995000e+06  182108.539008\n",
       "\n",
       "[8 rows x 7 columns]"
      ]
     },
     "execution_count": 22,
     "metadata": {
      "tags": []
     },
     "output_type": "execute_result"
    }
   ],
   "source": [
    "#dftrain.info()\n",
    "dftrain.describe()"
   ]
  },
  {
   "cell_type": "code",
   "execution_count": 24,
   "metadata": {
    "colab": {
     "base_uri": "https://localhost:8080/",
     "height": 158
    },
    "colab_type": "code",
    "executionInfo": {
     "elapsed": 695,
     "status": "ok",
     "timestamp": 1587842118191,
     "user": {
      "displayName": "Erin Khoo",
      "photoUrl": "https://lh3.googleusercontent.com/a-/AOh14GhHZgGAOsO63SCrVGuUu9PLAOiJ6M2MBHqs5Xurxw=s64",
      "userId": "12576091199293885088"
     },
     "user_tz": -60
    },
    "id": "SWOHzlvbhvya",
    "outputId": "f257a3de-c970-432d-c9eb-d9aabaacd04e"
   },
   "outputs": [
    {
     "data": {
      "text/plain": [
       "price          1.000000\n",
       "beds           0.515704\n",
       "bathrooms      0.497046\n",
       "longitude      0.157888\n",
       "surface        0.025211\n",
       "latitude      -0.141752\n",
       "no_of_units   -0.404436\n",
       "Name: price, dtype: float64"
      ]
     },
     "execution_count": 24,
     "metadata": {
      "tags": []
     },
     "output_type": "execute_result"
    }
   ],
   "source": [
    "# compute pairwise correlation with target variable using raw numerical data\n",
    "corr_matrix_train = dftrain.corr(method='pearson')\n",
    "corr_matrix_train['price'].sort_values(ascending=False)"
   ]
  },
  {
   "cell_type": "code",
   "execution_count": 28,
   "metadata": {
    "colab": {
     "base_uri": "https://localhost:8080/",
     "height": 370
    },
    "colab_type": "code",
    "executionInfo": {
     "elapsed": 1545,
     "status": "ok",
     "timestamp": 1587842324111,
     "user": {
      "displayName": "Erin Khoo",
      "photoUrl": "https://lh3.googleusercontent.com/a-/AOh14GhHZgGAOsO63SCrVGuUu9PLAOiJ6M2MBHqs5Xurxw=s64",
      "userId": "12576091199293885088"
     },
     "user_tz": -60
    },
    "id": "QROi2VZKw_0w",
    "outputId": "d48db374-01d8-4e9c-cc46-85559113855c"
   },
   "outputs": [
    {
     "data": {
      "image/png": "[encoded data removed]",
      "text/plain": [
       "<Figure size 720x360 with 2 Axes>"
      ]
     },
     "metadata": {
      "needs_background": "light",
      "tags": []
     },
     "output_type": "display_data"
    }
   ],
   "source": [
    "corr_matrix_train = dftrain.corr()\n",
    "f, ax = plt.subplots(figsize=(10, 5))\n",
    "seaborn.heatmap(corr_matrix_train, square=True);"
   ]
  },
  {
   "cell_type": "code",
   "execution_count": 48,
   "metadata": {
    "colab": {
     "base_uri": "https://localhost:8080/",
     "height": 316
    },
    "colab_type": "code",
    "executionInfo": {
     "elapsed": 1012,
     "status": "ok",
     "timestamp": 1587842881309,
     "user": {
      "displayName": "Erin Khoo",
      "photoUrl": "https://lh3.googleusercontent.com/a-/AOh14GhHZgGAOsO63SCrVGuUu9PLAOiJ6M2MBHqs5Xurxw=s64",
      "userId": "12576091199293885088"
     },
     "user_tz": -60
    },
    "id": "EqE9n5uZwHUt",
    "outputId": "13f3ee51-fbd1-4a9a-d88d-dd6db9eb2176"
   },
   "outputs": [
    {
     "data": {
      "image/png": "[encoded data removed]",
      "text/plain": [
       "<Figure size 504x360 with 2 Axes>"
      ]
     },
     "metadata": {
      "needs_background": "light",
      "tags": []
     },
     "output_type": "display_data"
    }
   ],
   "source": [
    "# Geographical exploration\n",
    "dftrain.plot(kind='scatter', x='longitude', y='latitude', alpha=.2,\n",
    "             c='price', figsize=(7,5), cmap='jet', colorbar=True)\n",
    "plt.show()"
   ]
  },
  {
   "cell_type": "code",
   "execution_count": 45,
   "metadata": {
    "colab": {
     "base_uri": "https://localhost:8080/",
     "height": 247
    },
    "colab_type": "code",
    "executionInfo": {
     "elapsed": 410,
     "status": "ok",
     "timestamp": 1587842842604,
     "user": {
      "displayName": "Erin Khoo",
      "photoUrl": "https://lh3.googleusercontent.com/a-/AOh14GhHZgGAOsO63SCrVGuUu9PLAOiJ6M2MBHqs5Xurxw=s64",
      "userId": "12576091199293885088"
     },
     "user_tz": -60
    },
    "id": "oEIBdwNguRAG",
    "outputId": "d9f2de19-62c0-46cb-93cf-2cae65c5a3a9"
   },
   "outputs": [
    {
     "data": {
      "text/plain": [
       "ad_id\n",
       "12270559   -1.744995\n",
       "12283542   -2.496219\n",
       "12414847   -6.054719\n",
       "12229773   -6.054962\n",
       "12149444   -6.055207\n",
       "              ...   \n",
       "12304485   -6.490638\n",
       "9127675    -6.496376\n",
       "12374438   -6.497000\n",
       "9164548    -6.500767\n",
       "12173209   -6.521183\n",
       "Name: longitude, Length: 2982, dtype: float64"
      ]
     },
     "execution_count": 45,
     "metadata": {
      "tags": []
     },
     "output_type": "execute_result"
    }
   ],
   "source": [
    "# whats the deal with the outliers? | 12283542; 51.458439 ~ 12270559; -1.744995\n",
    "#dftrain['latitude'].sort_values(ascending=True)\n",
    "dftrain['longitude'].sort_values(ascending=False)"
   ]
  },
  {
   "cell_type": "code",
   "execution_count": 54,
   "metadata": {
    "colab": {
     "base_uri": "https://localhost:8080/",
     "height": 177
    },
    "colab_type": "code",
    "executionInfo": {
     "elapsed": 618,
     "status": "ok",
     "timestamp": 1587843208338,
     "user": {
      "displayName": "Erin Khoo",
      "photoUrl": "https://lh3.googleusercontent.com/a-/AOh14GhHZgGAOsO63SCrVGuUu9PLAOiJ6M2MBHqs5Xurxw=s64",
      "userId": "12576091199293885088"
     },
     "user_tz": -60
    },
    "id": "Ts7j1g2Iy9vH",
    "outputId": "e74c1828-e5b2-4796-899a-a489a25a6bdf"
   },
   "outputs": [
    {
     "data": {
      "text/html": [
       "<div>\n",
       "<style scoped>\n",
       "    .dataframe tbody tr th:only-of-type {\n",
       "        vertical-align: middle;\n",
       "    }\n",
       "\n",
       "    .dataframe tbody tr th {\n",
       "        vertical-align: top;\n",
       "    }\n",
       "\n",
       "    .dataframe thead th {\n",
       "        text-align: right;\n",
       "    }\n",
       "</style>\n",
       "<table border=\"1\" class=\"dataframe\">\n",
       "  <thead>\n",
       "    <tr style=\"text-align: right;\">\n",
       "      <th></th>\n",
       "      <th>area</th>\n",
       "      <th>bathrooms</th>\n",
       "      <th>beds</th>\n",
       "      <th>ber_classification</th>\n",
       "      <th>county</th>\n",
       "      <th>description_block</th>\n",
       "      <th>environment</th>\n",
       "      <th>facility</th>\n",
       "      <th>features</th>\n",
       "      <th>latitude</th>\n",
       "      <th>longitude</th>\n",
       "      <th>no_of_units</th>\n",
       "      <th>price</th>\n",
       "      <th>property_category</th>\n",
       "      <th>property_type</th>\n",
       "      <th>surface</th>\n",
       "    </tr>\n",
       "    <tr>\n",
       "      <th>ad_id</th>\n",
       "      <th></th>\n",
       "      <th></th>\n",
       "      <th></th>\n",
       "      <th></th>\n",
       "      <th></th>\n",
       "      <th></th>\n",
       "      <th></th>\n",
       "      <th></th>\n",
       "      <th></th>\n",
       "      <th></th>\n",
       "      <th></th>\n",
       "      <th></th>\n",
       "      <th></th>\n",
       "      <th></th>\n",
       "      <th></th>\n",
       "      <th></th>\n",
       "    </tr>\n",
       "  </thead>\n",
       "  <tbody>\n",
       "    <tr>\n",
       "      <th>12283542</th>\n",
       "      <td>Glenageary</td>\n",
       "      <td>2.0</td>\n",
       "      <td>4.0</td>\n",
       "      <td>F</td>\n",
       "      <td>Dublin</td>\n",
       "      <td>LEONARD WILSON KEENAN ESTATE &amp;amp; LETTING AGE...</td>\n",
       "      <td>prod</td>\n",
       "      <td>NaN</td>\n",
       "      <td>None</td>\n",
       "      <td>51.458439</td>\n",
       "      <td>-2.496219</td>\n",
       "      <td>NaN</td>\n",
       "      <td>795000.0</td>\n",
       "      <td>sale</td>\n",
       "      <td>semi-detached</td>\n",
       "      <td>NaN</td>\n",
       "    </tr>\n",
       "  </tbody>\n",
       "</table>\n",
       "</div>"
      ],
      "text/plain": [
       "                area  bathrooms  beds  ... property_category  property_type surface\n",
       "ad_id                                  ...                                         \n",
       "12283542  Glenageary        2.0   4.0  ...              sale  semi-detached     NaN\n",
       "\n",
       "[1 rows x 16 columns]"
      ]
     },
     "execution_count": 54,
     "metadata": {
      "tags": []
     },
     "output_type": "execute_result"
    }
   ],
   "source": [
    "# 12283542 | location data out or Ireland - https://goo.gl/maps/tX6AQirhsBidA4yQ9 \n",
    "dftrain.loc[[12283542]]"
   ]
  },
  {
   "cell_type": "code",
   "execution_count": 55,
   "metadata": {
    "colab": {
     "base_uri": "https://localhost:8080/",
     "height": 161
    },
    "colab_type": "code",
    "executionInfo": {
     "elapsed": 601,
     "status": "ok",
     "timestamp": 1587843552622,
     "user": {
      "displayName": "Erin Khoo",
      "photoUrl": "https://lh3.googleusercontent.com/a-/AOh14GhHZgGAOsO63SCrVGuUu9PLAOiJ6M2MBHqs5Xurxw=s64",
      "userId": "12576091199293885088"
     },
     "user_tz": -60
    },
    "id": "mh9Fis9E2YQh",
    "outputId": "c9030f13-6b83-4e7d-af73-40626d4122f2"
   },
   "outputs": [
    {
     "data": {
      "text/html": [
       "<div>\n",
       "<style scoped>\n",
       "    .dataframe tbody tr th:only-of-type {\n",
       "        vertical-align: middle;\n",
       "    }\n",
       "\n",
       "    .dataframe tbody tr th {\n",
       "        vertical-align: top;\n",
       "    }\n",
       "\n",
       "    .dataframe thead th {\n",
       "        text-align: right;\n",
       "    }\n",
       "</style>\n",
       "<table border=\"1\" class=\"dataframe\">\n",
       "  <thead>\n",
       "    <tr style=\"text-align: right;\">\n",
       "      <th></th>\n",
       "      <th>area</th>\n",
       "      <th>bathrooms</th>\n",
       "      <th>beds</th>\n",
       "      <th>ber_classification</th>\n",
       "      <th>county</th>\n",
       "      <th>description_block</th>\n",
       "      <th>environment</th>\n",
       "      <th>facility</th>\n",
       "      <th>features</th>\n",
       "      <th>latitude</th>\n",
       "      <th>longitude</th>\n",
       "      <th>no_of_units</th>\n",
       "      <th>price</th>\n",
       "      <th>property_category</th>\n",
       "      <th>property_type</th>\n",
       "      <th>surface</th>\n",
       "    </tr>\n",
       "    <tr>\n",
       "      <th>ad_id</th>\n",
       "      <th></th>\n",
       "      <th></th>\n",
       "      <th></th>\n",
       "      <th></th>\n",
       "      <th></th>\n",
       "      <th></th>\n",
       "      <th></th>\n",
       "      <th></th>\n",
       "      <th></th>\n",
       "      <th></th>\n",
       "      <th></th>\n",
       "      <th></th>\n",
       "      <th></th>\n",
       "      <th></th>\n",
       "      <th></th>\n",
       "      <th></th>\n",
       "    </tr>\n",
       "  </thead>\n",
       "  <tbody>\n",
       "    <tr>\n",
       "      <th>12270559</th>\n",
       "      <td>Clondalkin</td>\n",
       "      <td>1.0</td>\n",
       "      <td>3.0</td>\n",
       "      <td>NaN</td>\n",
       "      <td>Dublin</td>\n",
       "      <td>RAY COOKE AUCTIONEERS take great pleasure in i...</td>\n",
       "      <td>prod</td>\n",
       "      <td>NaN</td>\n",
       "      <td>None</td>\n",
       "      <td>52.501856</td>\n",
       "      <td>-1.744995</td>\n",
       "      <td>NaN</td>\n",
       "      <td>199000.0</td>\n",
       "      <td>sale</td>\n",
       "      <td>semi-detached</td>\n",
       "      <td>79.0</td>\n",
       "    </tr>\n",
       "  </tbody>\n",
       "</table>\n",
       "</div>"
      ],
      "text/plain": [
       "                area  bathrooms  beds  ... property_category  property_type surface\n",
       "ad_id                                  ...                                         \n",
       "12270559  Clondalkin        1.0   3.0  ...              sale  semi-detached    79.0\n",
       "\n",
       "[1 rows x 16 columns]"
      ]
     },
     "execution_count": 55,
     "metadata": {
      "tags": []
     },
     "output_type": "execute_result"
    }
   ],
   "source": [
    "# 12270559 | location data out or Ireland - https://goo.gl/maps/tF2NQ3iWGJq61pLS9\n",
    "dftrain.loc[[12270559]]"
   ]
  },
  {
   "cell_type": "code",
   "execution_count": 0,
   "metadata": {
    "colab": {},
    "colab_type": "code",
    "id": "Qx-gSQDd5p8L"
   },
   "outputs": [],
   "source": [
    "# delete 12270559 and 12283542 as rows in dataset\n",
    "# replace latitude and longitude with generic lat/long from area |\n",
    "# 53.3216669,-6.4345344 <- 12270559 | Clondalkin\n",
    "# 53.282431,-6.1377456 <- 12283542 | Glenageary"
   ]
  },
  {
   "cell_type": "markdown",
   "metadata": {
    "colab_type": "text",
    "id": "Jt-VYwc6pUit"
   },
   "source": [
    "### Categorial feature Review\n",
    "- `price` (the target variable)"
   ]
  },
  {
   "cell_type": "code",
   "execution_count": 0,
   "metadata": {
    "colab": {},
    "colab_type": "code",
    "id": "V3LQNSNgVtgb"
   },
   "outputs": [],
   "source": [
    "# ordinal dataset from dftrain\n",
    "cat_train = dftrain.dtypes[dftrain.dtypes == \"object\"].index"
   ]
  },
  {
   "cell_type": "code",
   "execution_count": 0,
   "metadata": {
    "colab": {},
    "colab_type": "code",
    "id": "xEbxbJXuWJKe"
   },
   "outputs": [],
   "source": []
  },
  {
   "cell_type": "code",
   "execution_count": 81,
   "metadata": {
    "colab": {
     "base_uri": "https://localhost:8080/",
     "height": 345
    },
    "colab_type": "code",
    "executionInfo": {
     "elapsed": 1212,
     "status": "ok",
     "timestamp": 1587845704274,
     "user": {
      "displayName": "Erin Khoo",
      "photoUrl": "https://lh3.googleusercontent.com/a-/AOh14GhHZgGAOsO63SCrVGuUu9PLAOiJ6M2MBHqs5Xurxw=s64",
      "userId": "12576091199293885088"
     },
     "user_tz": -60
    },
    "id": "Y7CNWI8epRdU",
    "outputId": "cedf04ff-82e4-4d26-bf5d-6b4b1e775dff"
   },
   "outputs": [
    {
     "data": {
      "image/png": "[encoded data removed]",
      "text/plain": [
       "<Figure size 1440x360 with 1 Axes>"
      ]
     },
     "metadata": {
      "needs_background": "light",
      "tags": []
     },
     "output_type": "display_data"
    }
   ],
   "source": [
    "# \n",
    "pd.crosstab(dftrain['bathrooms'],dftrain['ber_classification']).plot(kind='bar', stacked=False, figsize=(20,5))\n",
    "plt.legend(bbox_to_anchor=(1, 1))\n",
    "plt.title('')\n",
    "plt.ylabel('')\n",
    "plt.show()"
   ]
  },
  {
   "cell_type": "code",
   "execution_count": 80,
   "metadata": {
    "colab": {
     "base_uri": "https://localhost:8080/",
     "height": 320
    },
    "colab_type": "code",
    "executionInfo": {
     "elapsed": 557,
     "status": "ok",
     "timestamp": 1587845648354,
     "user": {
      "displayName": "Erin Khoo",
      "photoUrl": "https://lh3.googleusercontent.com/a-/AOh14GhHZgGAOsO63SCrVGuUu9PLAOiJ6M2MBHqs5Xurxw=s64",
      "userId": "12576091199293885088"
     },
     "user_tz": -60
    },
    "id": "Fic80XE1-BL7",
    "outputId": "4a89dceb-bbb1-487b-bd2f-d54f16072e72"
   },
   "outputs": [
    {
     "data": {
      "image/png": "[encoded data removed]",
      "text/plain": [
       "<Figure size 1440x360 with 1 Axes>"
      ]
     },
     "metadata": {
      "needs_background": "light",
      "tags": []
     },
     "output_type": "display_data"
    }
   ],
   "source": [
    "# whats is the deal with SINo666of2006exempt\n",
    "dftrain['ber_classification'].hist(figsize=(20,5))\n",
    "plt.show()"
   ]
  },
  {
   "cell_type": "code",
   "execution_count": 82,
   "metadata": {
    "colab": {
     "base_uri": "https://localhost:8080/",
     "height": 247
    },
    "colab_type": "code",
    "executionInfo": {
     "elapsed": 604,
     "status": "ok",
     "timestamp": 1587845729131,
     "user": {
      "displayName": "Erin Khoo",
      "photoUrl": "https://lh3.googleusercontent.com/a-/AOh14GhHZgGAOsO63SCrVGuUu9PLAOiJ6M2MBHqs5Xurxw=s64",
      "userId": "12576091199293885088"
     },
     "user_tz": -60
    },
    "id": "JAUQCHep-vP5",
    "outputId": "eb5ab452-5a52-4d5c-f81e-87d800bf008c"
   },
   "outputs": [
    {
     "data": {
      "text/plain": [
       "ad_id\n",
       "12382586    SINo666of2006exempt\n",
       "12423729    SINo666of2006exempt\n",
       "12346983    SINo666of2006exempt\n",
       "12117082    SINo666of2006exempt\n",
       "12045629    SINo666of2006exempt\n",
       "                   ...         \n",
       "12427071                    NaN\n",
       "12427176                    NaN\n",
       "12427353                    NaN\n",
       "12427354                    NaN\n",
       "12428109                    NaN\n",
       "Name: ber_classification, Length: 2982, dtype: object"
      ]
     },
     "execution_count": 82,
     "metadata": {
      "tags": []
     },
     "output_type": "execute_result"
    }
   ],
   "source": [
    "dftrain['ber_classification'].sort_values(ascending=False)"
   ]
  },
  {
   "cell_type": "code",
   "execution_count": 77,
   "metadata": {
    "colab": {
     "base_uri": "https://localhost:8080/",
     "height": 414
    },
    "colab_type": "code",
    "executionInfo": {
     "elapsed": 1015,
     "status": "ok",
     "timestamp": 1587909798252,
     "user": {
      "displayName": "Erin Khoo",
      "photoUrl": "https://lh3.googleusercontent.com/a-/AOh14GhHZgGAOsO63SCrVGuUu9PLAOiJ6M2MBHqs5Xurxw=s64",
      "userId": "12576091199293885088"
     },
     "user_tz": -60
    },
    "id": "BOj2yDusyeqp",
    "outputId": "6c297559-ef7d-4c50-af41-14b83b0adef0"
   },
   "outputs": [
    {
     "data": {
      "text/html": [
       "<div>\n",
       "<style scoped>\n",
       "    .dataframe tbody tr th:only-of-type {\n",
       "        vertical-align: middle;\n",
       "    }\n",
       "\n",
       "    .dataframe tbody tr th {\n",
       "        vertical-align: top;\n",
       "    }\n",
       "\n",
       "    .dataframe thead th {\n",
       "        text-align: right;\n",
       "    }\n",
       "</style>\n",
       "<table border=\"1\" class=\"dataframe\">\n",
       "  <thead>\n",
       "    <tr style=\"text-align: right;\">\n",
       "      <th></th>\n",
       "      <th>area</th>\n",
       "      <th>bathrooms</th>\n",
       "      <th>beds</th>\n",
       "      <th>ber_classification</th>\n",
       "      <th>county</th>\n",
       "      <th>description_block</th>\n",
       "      <th>environment</th>\n",
       "      <th>facility</th>\n",
       "      <th>features</th>\n",
       "      <th>latitude</th>\n",
       "      <th>longitude</th>\n",
       "      <th>no_of_units</th>\n",
       "      <th>price</th>\n",
       "      <th>property_category</th>\n",
       "      <th>property_type</th>\n",
       "      <th>surface</th>\n",
       "    </tr>\n",
       "    <tr>\n",
       "      <th>ad_id</th>\n",
       "      <th></th>\n",
       "      <th></th>\n",
       "      <th></th>\n",
       "      <th></th>\n",
       "      <th></th>\n",
       "      <th></th>\n",
       "      <th></th>\n",
       "      <th></th>\n",
       "      <th></th>\n",
       "      <th></th>\n",
       "      <th></th>\n",
       "      <th></th>\n",
       "      <th></th>\n",
       "      <th></th>\n",
       "      <th></th>\n",
       "      <th></th>\n",
       "    </tr>\n",
       "  </thead>\n",
       "  <tbody>\n",
       "    <tr>\n",
       "      <th>996887</th>\n",
       "      <td>Portmarnock</td>\n",
       "      <td>NaN</td>\n",
       "      <td>NaN</td>\n",
       "      <td>NaN</td>\n",
       "      <td>Dublin</td>\n",
       "      <td>A SELECTION OF 4 AND 5 BEDROOM FAMILY HOMES LO...</td>\n",
       "      <td>prod</td>\n",
       "      <td>NaN</td>\n",
       "      <td>None</td>\n",
       "      <td>53.418216</td>\n",
       "      <td>-6.149329</td>\n",
       "      <td>18.0</td>\n",
       "      <td>NaN</td>\n",
       "      <td>new_development_parent</td>\n",
       "      <td>NaN</td>\n",
       "      <td>NaN</td>\n",
       "    </tr>\n",
       "    <tr>\n",
       "      <th>999327</th>\n",
       "      <td>Lucan</td>\n",
       "      <td>NaN</td>\n",
       "      <td>NaN</td>\n",
       "      <td>NaN</td>\n",
       "      <td>Dublin</td>\n",
       "      <td>**Last 2 remaining houses for sale ***\\n\\nOn v...</td>\n",
       "      <td>prod</td>\n",
       "      <td>NaN</td>\n",
       "      <td>None</td>\n",
       "      <td>53.364917</td>\n",
       "      <td>-6.454935</td>\n",
       "      <td>3.0</td>\n",
       "      <td>NaN</td>\n",
       "      <td>new_development_parent</td>\n",
       "      <td>NaN</td>\n",
       "      <td>NaN</td>\n",
       "    </tr>\n",
       "    <tr>\n",
       "      <th>999559</th>\n",
       "      <td>Rathfarnham</td>\n",
       "      <td>NaN</td>\n",
       "      <td>NaN</td>\n",
       "      <td>NaN</td>\n",
       "      <td>Dublin</td>\n",
       "      <td>Final 4 &amp;amp; 5 Bedroom Homes for Sale\\n\\nOn V...</td>\n",
       "      <td>prod</td>\n",
       "      <td>NaN</td>\n",
       "      <td>None</td>\n",
       "      <td>53.273447</td>\n",
       "      <td>-6.313821</td>\n",
       "      <td>3.0</td>\n",
       "      <td>NaN</td>\n",
       "      <td>new_development_parent</td>\n",
       "      <td>NaN</td>\n",
       "      <td>NaN</td>\n",
       "    </tr>\n",
       "    <tr>\n",
       "      <th>9102986</th>\n",
       "      <td>Balbriggan</td>\n",
       "      <td>NaN</td>\n",
       "      <td>NaN</td>\n",
       "      <td>NaN</td>\n",
       "      <td>Dublin</td>\n",
       "      <td>Glenveagh Taylor Hill, Balbriggan\\n\\r\\n*Ideal ...</td>\n",
       "      <td>prod</td>\n",
       "      <td>NaN</td>\n",
       "      <td>None</td>\n",
       "      <td>53.608167</td>\n",
       "      <td>-6.210914</td>\n",
       "      <td>30.0</td>\n",
       "      <td>NaN</td>\n",
       "      <td>new_development_parent</td>\n",
       "      <td>NaN</td>\n",
       "      <td>NaN</td>\n",
       "    </tr>\n",
       "    <tr>\n",
       "      <th>9106028</th>\n",
       "      <td>Foxrock</td>\n",
       "      <td>NaN</td>\n",
       "      <td>NaN</td>\n",
       "      <td>NaN</td>\n",
       "      <td>Dublin</td>\n",
       "      <td>*New phase launching this weekend Sat &amp;amp; Su...</td>\n",
       "      <td>prod</td>\n",
       "      <td>NaN</td>\n",
       "      <td>None</td>\n",
       "      <td>53.262531</td>\n",
       "      <td>-6.181527</td>\n",
       "      <td>8.0</td>\n",
       "      <td>NaN</td>\n",
       "      <td>new_development_parent</td>\n",
       "      <td>NaN</td>\n",
       "      <td>NaN</td>\n",
       "    </tr>\n",
       "  </tbody>\n",
       "</table>\n",
       "</div>"
      ],
      "text/plain": [
       "                area  bathrooms  ...  property_type surface\n",
       "ad_id                            ...                       \n",
       "996887   Portmarnock        NaN  ...            NaN     NaN\n",
       "999327         Lucan        NaN  ...            NaN     NaN\n",
       "999559   Rathfarnham        NaN  ...            NaN     NaN\n",
       "9102986   Balbriggan        NaN  ...            NaN     NaN\n",
       "9106028      Foxrock        NaN  ...            NaN     NaN\n",
       "\n",
       "[5 rows x 16 columns]"
      ]
     },
     "execution_count": 77,
     "metadata": {
      "tags": []
     },
     "output_type": "execute_result"
    }
   ],
   "source": [
    "dftrain[dftrain['bathrooms'].isnull()].head()"
   ]
  },
  {
   "cell_type": "markdown",
   "metadata": {
    "colab_type": "text",
    "id": "SDUXjWs0TE6r"
   },
   "source": [
    "## Data Cleaning, Features selection and preprocessing"
   ]
  },
  {
   "cell_type": "code",
   "execution_count": 84,
   "metadata": {
    "colab": {
     "base_uri": "https://localhost:8080/",
     "height": 347
    },
    "colab_type": "code",
    "executionInfo": {
     "elapsed": 1032,
     "status": "ok",
     "timestamp": 1587910702656,
     "user": {
      "displayName": "Erin Khoo",
      "photoUrl": "https://lh3.googleusercontent.com/a-/AOh14GhHZgGAOsO63SCrVGuUu9PLAOiJ6M2MBHqs5Xurxw=s64",
      "userId": "12576091199293885088"
     },
     "user_tz": -60
    },
    "id": "II6wChSpfs8W",
    "outputId": "2ff066bb-4bbd-4bc7-a17c-01370078e6cc"
   },
   "outputs": [
    {
     "data": {
      "text/html": [
       "<div>\n",
       "<style scoped>\n",
       "    .dataframe tbody tr th:only-of-type {\n",
       "        vertical-align: middle;\n",
       "    }\n",
       "\n",
       "    .dataframe tbody tr th {\n",
       "        vertical-align: top;\n",
       "    }\n",
       "\n",
       "    .dataframe thead th {\n",
       "        text-align: right;\n",
       "    }\n",
       "</style>\n",
       "<table border=\"1\" class=\"dataframe\">\n",
       "  <thead>\n",
       "    <tr style=\"text-align: right;\">\n",
       "      <th></th>\n",
       "      <th>Total</th>\n",
       "      <th>Percent</th>\n",
       "    </tr>\n",
       "  </thead>\n",
       "  <tbody>\n",
       "    <tr>\n",
       "      <th>no_of_units</th>\n",
       "      <td>2923</td>\n",
       "      <td>0.980215</td>\n",
       "    </tr>\n",
       "    <tr>\n",
       "      <th>facility</th>\n",
       "      <td>2017</td>\n",
       "      <td>0.676392</td>\n",
       "    </tr>\n",
       "    <tr>\n",
       "      <th>ber_classification</th>\n",
       "      <td>677</td>\n",
       "      <td>0.227029</td>\n",
       "    </tr>\n",
       "    <tr>\n",
       "      <th>surface</th>\n",
       "      <td>551</td>\n",
       "      <td>0.184775</td>\n",
       "    </tr>\n",
       "    <tr>\n",
       "      <th>price</th>\n",
       "      <td>90</td>\n",
       "      <td>0.030181</td>\n",
       "    </tr>\n",
       "    <tr>\n",
       "      <th>property_type</th>\n",
       "      <td>51</td>\n",
       "      <td>0.017103</td>\n",
       "    </tr>\n",
       "    <tr>\n",
       "      <th>beds</th>\n",
       "      <td>51</td>\n",
       "      <td>0.017103</td>\n",
       "    </tr>\n",
       "    <tr>\n",
       "      <th>bathrooms</th>\n",
       "      <td>51</td>\n",
       "      <td>0.017103</td>\n",
       "    </tr>\n",
       "    <tr>\n",
       "      <th>property_category</th>\n",
       "      <td>0</td>\n",
       "      <td>0.000000</td>\n",
       "    </tr>\n",
       "    <tr>\n",
       "      <th>longitude</th>\n",
       "      <td>0</td>\n",
       "      <td>0.000000</td>\n",
       "    </tr>\n",
       "  </tbody>\n",
       "</table>\n",
       "</div>"
      ],
      "text/plain": [
       "                    Total   Percent\n",
       "no_of_units          2923  0.980215\n",
       "facility             2017  0.676392\n",
       "ber_classification    677  0.227029\n",
       "surface               551  0.184775\n",
       "price                  90  0.030181\n",
       "property_type          51  0.017103\n",
       "beds                   51  0.017103\n",
       "bathrooms              51  0.017103\n",
       "property_category       0  0.000000\n",
       "longitude               0  0.000000"
      ]
     },
     "execution_count": 84,
     "metadata": {
      "tags": []
     },
     "output_type": "execute_result"
    }
   ],
   "source": [
    "# review missing values | train.csv \n",
    "#dftrain.isnull().sum()\n",
    "total_tr = dftrain.isnull().sum().sort_values(ascending=False)\n",
    "percent_tr = (dftrain.isnull().sum() / dftrain.isnull().count()).sort_values(ascending=False)\n",
    "missing_train = pd.concat([total_tr, percent_tr], axis=1, keys=['Total', 'Percent'])\n",
    "missing_train.head(10)"
   ]
  },
  {
   "cell_type": "code",
   "execution_count": 87,
   "metadata": {
    "colab": {
     "base_uri": "https://localhost:8080/",
     "height": 197
    },
    "colab_type": "code",
    "executionInfo": {
     "elapsed": 1023,
     "status": "ok",
     "timestamp": 1587910770113,
     "user": {
      "displayName": "Erin Khoo",
      "photoUrl": "https://lh3.googleusercontent.com/a-/AOh14GhHZgGAOsO63SCrVGuUu9PLAOiJ6M2MBHqs5Xurxw=s64",
      "userId": "12576091199293885088"
     },
     "user_tz": -60
    },
    "id": "LLXJjN56Rim5",
    "outputId": "89393980-ad35-4569-f777-73b62c199639"
   },
   "outputs": [
    {
     "data": {
      "text/html": [
       "<div>\n",
       "<style scoped>\n",
       "    .dataframe tbody tr th:only-of-type {\n",
       "        vertical-align: middle;\n",
       "    }\n",
       "\n",
       "    .dataframe tbody tr th {\n",
       "        vertical-align: top;\n",
       "    }\n",
       "\n",
       "    .dataframe thead th {\n",
       "        text-align: right;\n",
       "    }\n",
       "</style>\n",
       "<table border=\"1\" class=\"dataframe\">\n",
       "  <thead>\n",
       "    <tr style=\"text-align: right;\">\n",
       "      <th></th>\n",
       "      <th>Total</th>\n",
       "      <th>Percent</th>\n",
       "    </tr>\n",
       "  </thead>\n",
       "  <tbody>\n",
       "    <tr>\n",
       "      <th>no_of_units</th>\n",
       "      <td>500</td>\n",
       "      <td>1.000</td>\n",
       "    </tr>\n",
       "    <tr>\n",
       "      <th>facility</th>\n",
       "      <td>311</td>\n",
       "      <td>0.622</td>\n",
       "    </tr>\n",
       "    <tr>\n",
       "      <th>ber_classification</th>\n",
       "      <td>56</td>\n",
       "      <td>0.112</td>\n",
       "    </tr>\n",
       "    <tr>\n",
       "      <th>surface</th>\n",
       "      <td>0</td>\n",
       "      <td>0.000</td>\n",
       "    </tr>\n",
       "    <tr>\n",
       "      <th>property_type</th>\n",
       "      <td>0</td>\n",
       "      <td>0.000</td>\n",
       "    </tr>\n",
       "  </tbody>\n",
       "</table>\n",
       "</div>"
      ],
      "text/plain": [
       "                    Total  Percent\n",
       "no_of_units           500    1.000\n",
       "facility              311    0.622\n",
       "ber_classification     56    0.112\n",
       "surface                 0    0.000\n",
       "property_type           0    0.000"
      ]
     },
     "execution_count": 87,
     "metadata": {
      "tags": []
     },
     "output_type": "execute_result"
    }
   ],
   "source": [
    "# review missing values | test.csv \n",
    "#dftest.isnull().sum()\n",
    "total_te = dftest.isnull().sum().sort_values(ascending=False)\n",
    "percent_te = (dftest.isnull().sum() / dftest.isnull().count()).sort_values(ascending=False)\n",
    "missing_test = pd.concat([total_te, percent_te], axis=1, keys=['Total', 'Percent'])\n",
    "missing_test.head(5)"
   ]
  },
  {
   "cell_type": "code",
   "execution_count": 0,
   "metadata": {
    "colab": {},
    "colab_type": "code",
    "id": "1gDJrz6v7Rtl"
   },
   "outputs": [],
   "source": []
  },
  {
   "cell_type": "code",
   "execution_count": 102,
   "metadata": {
    "colab": {
     "base_uri": "https://localhost:8080/",
     "height": 34
    },
    "colab_type": "code",
    "executionInfo": {
     "elapsed": 1295,
     "status": "ok",
     "timestamp": 1587912653601,
     "user": {
      "displayName": "Erin Khoo",
      "photoUrl": "https://lh3.googleusercontent.com/a-/AOh14GhHZgGAOsO63SCrVGuUu9PLAOiJ6M2MBHqs5Xurxw=s64",
      "userId": "12576091199293885088"
     },
     "user_tz": -60
    },
    "id": "McQP4FfVfDNA",
    "outputId": "51e36576-18fb-4246-b472-a707da4dba6f"
   },
   "outputs": [
    {
     "data": {
      "text/plain": [
       "(3482, 15)"
      ]
     },
     "execution_count": 102,
     "metadata": {
      "tags": []
     },
     "output_type": "execute_result"
    }
   ],
   "source": [
    "# stack-fill-resplit trick\n",
    "# concatenate data | drop 'price' data\n",
    "all_data = pd.concat((dftrain.drop(['price'], axis=1),\n",
    "                      dftest.loc[:,'area':'surface']),\n",
    "                     ignore_index=False)\n",
    "all_data.shape"
   ]
  },
  {
   "cell_type": "code",
   "execution_count": 0,
   "metadata": {
    "colab": {},
    "colab_type": "code",
    "id": "uGGSHcCt-ogo"
   },
   "outputs": [],
   "source": [
    "# assign data groups for cleaning\n",
    "num_housing = all_data.dtypes[all_data.dtypes != \"object\"].index\n",
    "cat_housing = all_data.dtypes[all_data.dtypes == \"object\"].index"
   ]
  },
  {
   "cell_type": "code",
   "execution_count": 0,
   "metadata": {
    "colab": {},
    "colab_type": "code",
    "id": "MzSCooKp_AR-"
   },
   "outputs": [],
   "source": [
    "#compute skewness\n",
    "skewed_feats = dftrain[num_housing].apply(lambda x: skew(x.dropna()))\n",
    "skewed_feats = skewed_feats[skewed_feats > 0.75]\n",
    "skewed_feats = skewed_feats.index\n",
    "all_data[skewed_feats] = np.log1p(all_data[skewed_feats])"
   ]
  },
  {
   "cell_type": "code",
   "execution_count": 0,
   "metadata": {
    "colab": {},
    "colab_type": "code",
    "id": "pDv5v6br_UH-"
   },
   "outputs": [],
   "source": [
    "pd.get_dummies(all_data).head()"
   ]
  },
  {
   "cell_type": "code",
   "execution_count": 0,
   "metadata": {
    "colab": {},
    "colab_type": "code",
    "id": "-qvv5ey7TE6r"
   },
   "outputs": [],
   "source": [
    "#select some features columns just for the baseline model\n",
    "df_subset_train = dftrain[['bathrooms','beds','surface','price']].dropna(axis=0)\n",
    "df_subset_test  =  dftest[['bathrooms','beds','surface']]\n",
    "\n",
    "# df_subset_train = dftrain[['bathrooms','beds','latitude','longitude','surface','price']].dropna(axis=0)\n",
    "# df_subset_test  =  dftest[['bathrooms','beds','latitude','longitude','surface']]"
   ]
  },
  {
   "cell_type": "code",
   "execution_count": 0,
   "metadata": {
    "colab": {},
    "colab_type": "code",
    "id": "lcnq2A6hTE6t"
   },
   "outputs": [],
   "source": [
    "X = df_subset_train.iloc[:,0:3].values #input columns\n",
    "y = df_subset_train.iloc[:,3].values   #output column, price\n",
    "#test set\n",
    "Xtest = df_subset_test.iloc[:,0:3].values #input columns"
   ]
  },
  {
   "cell_type": "code",
   "execution_count": 0,
   "metadata": {
    "colab": {},
    "colab_type": "code",
    "id": "qFM7at8UTE6w"
   },
   "outputs": [],
   "source": [
    "# might be good to scale for different algos"
   ]
  },
  {
   "cell_type": "markdown",
   "metadata": {
    "colab_type": "text",
    "id": "AlCHCeNbTE60"
   },
   "source": [
    "## train/test your model"
   ]
  },
  {
   "cell_type": "code",
   "execution_count": 0,
   "metadata": {
    "colab": {},
    "colab_type": "code",
    "id": "Yy7gZct1tJJZ"
   },
   "outputs": [],
   "source": [
    "# setup for Grid Search\n",
    "params_grid ={'max_depth': [1,2,3],\n",
    "              'n_estimators': [50,100,150,],\n",
    "              'learning_rate': [0.0001,0.001,0.01, 0.02, 0.05]}"
   ]
  },
  {
   "cell_type": "code",
   "execution_count": 0,
   "metadata": {
    "colab": {},
    "colab_type": "code",
    "id": "iT_-gV9vtKV6"
   },
   "outputs": [],
   "source": [
    "np.linspace(0.01, 0.1, 10)"
   ]
  },
  {
   "cell_type": "code",
   "execution_count": 0,
   "metadata": {
    "colab": {},
    "colab_type": "code",
    "id": "rQsY9VgetNr3"
   },
   "outputs": [],
   "source": [
    "grid_regressor = GridSearchCV(model_xgb, params_grid, n_jobs=-1,scoring='neg_mean_squared_error')"
   ]
  },
  {
   "cell_type": "code",
   "execution_count": 0,
   "metadata": {
    "colab": {},
    "colab_type": "code",
    "id": "ihKih2J4tdJH"
   },
   "outputs": [],
   "source": [
    "grid_regressor.fit(X_train, y  )"
   ]
  },
  {
   "cell_type": "code",
   "execution_count": 0,
   "metadata": {
    "colab": {},
    "colab_type": "code",
    "id": "LTvf2EOftd9c"
   },
   "outputs": [],
   "source": [
    "grid_regressor.best_params_ "
   ]
  },
  {
   "cell_type": "code",
   "execution_count": 0,
   "metadata": {
    "colab": {},
    "colab_type": "code",
    "id": "-gIrZch_TE60"
   },
   "outputs": [],
   "source": [
    "# from sklearn.linear_model import LinearRegression | MAPE: 47.00007\n",
    "#reg = LinearRegression().fit(X, y)\n",
    "#y_tr_pred = reg.predict(X)\n",
    "#y_te_pred = reg.predict(Xtest)"
   ]
  },
  {
   "cell_type": "code",
   "execution_count": 0,
   "metadata": {
    "colab": {},
    "colab_type": "code",
    "id": "lRTfdgTriz9i"
   },
   "outputs": [],
   "source": [
    "# from sklearn.ensemble import ExtraTreesRegressor | MAPE: 12.00007\n",
    "#ETreg = ExtraTreesRegressor().fit(X, y)\n",
    "#y_tr_pred = ETreg.predict(X)\n",
    "#y_te_pred = ETreg.predict(Xtest)"
   ]
  },
  {
   "cell_type": "code",
   "execution_count": 0,
   "metadata": {
    "colab": {},
    "colab_type": "code",
    "id": "yeffClDirBzb"
   },
   "outputs": [],
   "source": [
    "#from sklearn.ensemble.GradientBoostingRegressor | MAPE: 28.31755\n",
    "#GBreg = GradientBoostingRegressor().fit(X, y)\n",
    "#y_tr_pred = GBreg.predict(X)\n",
    "#y_te_pred = GBreg.predict(Xtest)"
   ]
  },
  {
   "cell_type": "code",
   "execution_count": 89,
   "metadata": {
    "colab": {
     "base_uri": "https://localhost:8080/",
     "height": 34
    },
    "colab_type": "code",
    "executionInfo": {
     "elapsed": 1020,
     "status": "ok",
     "timestamp": 1587911669984,
     "user": {
      "displayName": "Erin Khoo",
      "photoUrl": "https://lh3.googleusercontent.com/a-/AOh14GhHZgGAOsO63SCrVGuUu9PLAOiJ6M2MBHqs5Xurxw=s64",
      "userId": "12576091199293885088"
     },
     "user_tz": -60
    },
    "id": "KQ7QrsFJ6Pde",
    "outputId": "545d38d5-eec9-4163-b07e-f046461fb52e"
   },
   "outputs": [
    {
     "data": {
      "text/plain": [
       "array([935000., 485000., 935000., ..., 299000., 495000., 525000.])"
      ]
     },
     "execution_count": 89,
     "metadata": {
      "tags": []
     },
     "output_type": "execute_result"
    }
   ],
   "source": [
    "y"
   ]
  },
  {
   "cell_type": "code",
   "execution_count": 0,
   "metadata": {
    "colab": {},
    "colab_type": "code",
    "id": "2XT8QKADlkMz"
   },
   "outputs": [],
   "source": [
    "#import xgboost as xgb | MAPE: 28.86167\n",
    "#xgb = xgb.XGBRegressor().fit(X, y)\n",
    "#y_tr_pred = xgb.predict(X)\n",
    "#y_te_pred = xgb.predict(Xtest)"
   ]
  },
  {
   "cell_type": "code",
   "execution_count": 0,
   "metadata": {
    "colab": {},
    "colab_type": "code",
    "id": "0CwFOegYkSOT"
   },
   "outputs": [],
   "source": [
    "#from sklearn.svm import SVC | MAPE: 24.90647; C=1 | MAPE: 18.21388; C=10\n",
    "#SVC_rbf = SVC(kernel=\"rbf\", gamma=\"auto\", C=10).fit(X, y)\n",
    "#y_tr_pred = SVC_rbf.predict(X)\n",
    "#y_te_pred = SVC_rbf.predict(Xtest)"
   ]
  },
  {
   "cell_type": "code",
   "execution_count": 0,
   "metadata": {
    "colab": {},
    "colab_type": "code",
    "id": "StDxZUNgc5nS"
   },
   "outputs": [],
   "source": [
    "#from sklearn.svm import SVR | MAPE: 36.96492; gamma=10, C=1000 | MAPE: ; C=\n",
    "#rbf_kernel_svm = Pipeline([('scaler', StandardScaler()), ('svm', SVR(kernel='rbf', gamma=10, C=1000))])\n",
    "#SVR_rbf = rbf_kernel_svm.fit(X, y)\n",
    "#y_tr_pred = SVR_rbf.predict(X)\n",
    "#y_te_pred = SVR_rbf.predict(Xtest)"
   ]
  },
  {
   "cell_type": "code",
   "execution_count": 0,
   "metadata": {
    "colab": {},
    "colab_type": "code",
    "id": "gpifM8PGnKhA"
   },
   "outputs": [],
   "source": [
    "num_pipeline = Pipeline([\n",
    "                         ('imputer', SimpleImputer(strategy='median')),\n",
    "                         ('std_scaler', StandardScaler()),\n",
    "])\n",
    "\n",
    "num_features = list(housing_num) #selected numerical dataset\n",
    "cat_features = ['area'] # need to select these after more EDA\n",
    "\n",
    "full_pipeline = ColumnTransformer([\n",
    "                                   ('num', num_pipeline, num_features),\n",
    "                                   ('cat', OneHotEncoder(), cat_features),\n",
    "])\n",
    "\n",
    "housing_clean = full_pipeline.fit_transform(housing_selected) # data can now be used in an algo as training data"
   ]
  },
  {
   "cell_type": "code",
   "execution_count": 0,
   "metadata": {
    "colab": {},
    "colab_type": "code",
    "id": "6PUEhYEMfY7e"
   },
   "outputs": [],
   "source": [
    "# PCA Pipeline w/ XGBoost\n",
    "best_param = Pipeline([('pca', pca(n_components=0.95)),\n",
    "                       ('xgb', xgb())])"
   ]
  },
  {
   "cell_type": "markdown",
   "metadata": {
    "colab_type": "text",
    "id": "OlGVSKraTE62"
   },
   "source": [
    "## Compute MAPE: Mean absolute percentage error"
   ]
  },
  {
   "cell_type": "code",
   "execution_count": 70,
   "metadata": {
    "colab": {
     "base_uri": "https://localhost:8080/",
     "height": 141
    },
    "colab_type": "code",
    "executionInfo": {
     "elapsed": 1010,
     "status": "ok",
     "timestamp": 1587907045154,
     "user": {
      "displayName": "Erin Khoo",
      "photoUrl": "https://lh3.googleusercontent.com/a-/AOh14GhHZgGAOsO63SCrVGuUu9PLAOiJ6M2MBHqs5Xurxw=s64",
      "userId": "12576091199293885088"
     },
     "user_tz": -60
    },
    "id": "K7g6nAB5TE63",
    "outputId": "6cb13eaf-445b-48e5-e3d2-a97e8e7209ce"
   },
   "outputs": [
    {
     "data": {
      "text/plain": [
       "array([[935000.        , 489164.70154457],\n",
       "       [485000.        , 468982.87429695],\n",
       "       [935000.        , 489164.70154457],\n",
       "       ...,\n",
       "       [299000.        , 349954.14653095],\n",
       "       [495000.        , 427534.68683619],\n",
       "       [525000.        , 428545.81988966]])"
      ]
     },
     "execution_count": 70,
     "metadata": {
      "tags": []
     },
     "output_type": "execute_result"
    }
   ],
   "source": [
    "#compute training error\n",
    "M = np.hstack([y[:,None],y_tr_pred[:,None]])\n",
    "M"
   ]
  },
  {
   "cell_type": "code",
   "execution_count": 71,
   "metadata": {
    "colab": {
     "base_uri": "https://localhost:8080/",
     "height": 34
    },
    "colab_type": "code",
    "executionInfo": {
     "elapsed": 1102,
     "status": "ok",
     "timestamp": 1587907046928,
     "user": {
      "displayName": "Erin Khoo",
      "photoUrl": "https://lh3.googleusercontent.com/a-/AOh14GhHZgGAOsO63SCrVGuUu9PLAOiJ6M2MBHqs5Xurxw=s64",
      "userId": "12576091199293885088"
     },
     "user_tz": -60
    },
    "id": "NHLUWqUITE65",
    "outputId": "37684896-29ca-419e-8dbf-281aa5f8250c"
   },
   "outputs": [
    {
     "name": "stdout",
     "output_type": "stream",
     "text": [
      "MAPE: 36.99538\n"
     ]
    }
   ],
   "source": [
    "MAPE_training = np.mean(np.abs(M[:,0]-M[:,1])/M[:,0])*100\n",
    "print(f'MAPE: {MAPE_training:.7}')"
   ]
  },
  {
   "cell_type": "markdown",
   "metadata": {
    "colab_type": "text",
    "id": "s70iq95TTE68"
   },
   "source": [
    "## Prepare predictions for Kaggle"
   ]
  },
  {
   "cell_type": "code",
   "execution_count": 46,
   "metadata": {
    "colab": {
     "base_uri": "https://localhost:8080/",
     "height": 406
    },
    "colab_type": "code",
    "executionInfo": {
     "elapsed": 1119,
     "status": "ok",
     "timestamp": 1587906443750,
     "user": {
      "displayName": "Erin Khoo",
      "photoUrl": "https://lh3.googleusercontent.com/a-/AOh14GhHZgGAOsO63SCrVGuUu9PLAOiJ6M2MBHqs5Xurxw=s64",
      "userId": "12576091199293885088"
     },
     "user_tz": -60
    },
    "id": "WtRGPtnBTE69",
    "outputId": "15b59f03-ea4b-4c0c-e194-56a93e53e2ca"
   },
   "outputs": [
    {
     "data": {
      "text/html": [
       "<div>\n",
       "<style scoped>\n",
       "    .dataframe tbody tr th:only-of-type {\n",
       "        vertical-align: middle;\n",
       "    }\n",
       "\n",
       "    .dataframe tbody tr th {\n",
       "        vertical-align: top;\n",
       "    }\n",
       "\n",
       "    .dataframe thead th {\n",
       "        text-align: right;\n",
       "    }\n",
       "</style>\n",
       "<table border=\"1\" class=\"dataframe\">\n",
       "  <thead>\n",
       "    <tr style=\"text-align: right;\">\n",
       "      <th></th>\n",
       "      <th>Id</th>\n",
       "      <th>Predicted</th>\n",
       "    </tr>\n",
       "  </thead>\n",
       "  <tbody>\n",
       "    <tr>\n",
       "      <th>0</th>\n",
       "      <td>12373510</td>\n",
       "      <td>587603.81250</td>\n",
       "    </tr>\n",
       "    <tr>\n",
       "      <th>1</th>\n",
       "      <td>12422623</td>\n",
       "      <td>483008.62500</td>\n",
       "    </tr>\n",
       "    <tr>\n",
       "      <th>2</th>\n",
       "      <td>12377408</td>\n",
       "      <td>768845.93750</td>\n",
       "    </tr>\n",
       "    <tr>\n",
       "      <th>3</th>\n",
       "      <td>12420093</td>\n",
       "      <td>552958.93750</td>\n",
       "    </tr>\n",
       "    <tr>\n",
       "      <th>4</th>\n",
       "      <td>12417338</td>\n",
       "      <td>389091.65625</td>\n",
       "    </tr>\n",
       "    <tr>\n",
       "      <th>...</th>\n",
       "      <td>...</td>\n",
       "      <td>...</td>\n",
       "    </tr>\n",
       "    <tr>\n",
       "      <th>495</th>\n",
       "      <td>12369815</td>\n",
       "      <td>308305.18750</td>\n",
       "    </tr>\n",
       "    <tr>\n",
       "      <th>496</th>\n",
       "      <td>12416011</td>\n",
       "      <td>855239.68750</td>\n",
       "    </tr>\n",
       "    <tr>\n",
       "      <th>497</th>\n",
       "      <td>12232222</td>\n",
       "      <td>449268.59375</td>\n",
       "    </tr>\n",
       "    <tr>\n",
       "      <th>498</th>\n",
       "      <td>11905630</td>\n",
       "      <td>587603.81250</td>\n",
       "    </tr>\n",
       "    <tr>\n",
       "      <th>499</th>\n",
       "      <td>12394865</td>\n",
       "      <td>315526.53125</td>\n",
       "    </tr>\n",
       "  </tbody>\n",
       "</table>\n",
       "<p>500 rows × 2 columns</p>\n",
       "</div>"
      ],
      "text/plain": [
       "           Id     Predicted\n",
       "0    12373510  587603.81250\n",
       "1    12422623  483008.62500\n",
       "2    12377408  768845.93750\n",
       "3    12420093  552958.93750\n",
       "4    12417338  389091.65625\n",
       "..        ...           ...\n",
       "495  12369815  308305.18750\n",
       "496  12416011  855239.68750\n",
       "497  12232222  449268.59375\n",
       "498  11905630  587603.81250\n",
       "499  12394865  315526.53125\n",
       "\n",
       "[500 rows x 2 columns]"
      ]
     },
     "execution_count": 46,
     "metadata": {
      "tags": []
     },
     "output_type": "execute_result"
    }
   ],
   "source": [
    "Prediction = pd.DataFrame()\n",
    "Prediction.insert(0, 'Id', dftest.index.values.astype(int))\n",
    "Prediction.insert(1, 'Predicted', y_te_pred)\n",
    "Prediction.to_csv(\"Prediction_v5.csv\", index=False)\n",
    "Prediction"
   ]
  },
  {
   "cell_type": "markdown",
   "metadata": {
    "colab_type": "text",
    "id": "KbcEAI6wv-C3"
   },
   "source": [
    "---"
   ]
  },
  {
   "cell_type": "markdown",
   "metadata": {
    "colab_type": "text",
    "id": "DthQZJvAv0Cb"
   },
   "source": [
    "---"
   ]
  },
  {
   "cell_type": "code",
   "execution_count": 0,
   "metadata": {
    "colab": {},
    "colab_type": "code",
    "id": "fW5oSy5ITE6l"
   },
   "outputs": [],
   "source": [
    "row=150\n",
    "entry=dftrain.iloc[row:row+1,:]\n",
    "print(entry.iloc[0,:])\n",
    "\n",
    "img = mpimg.imread('all_dataset_images/'+str(entry.index[0])+'.jpg')\n",
    "plt.imshow(img) \n",
    "plt.show() \n",
    "print(entry.iloc[0,:].description_block)\n",
    "print(\"=========================================================================\")\n",
    "print(entry.iloc[0,:].facility)"
   ]
  },
  {
   "cell_type": "code",
   "execution_count": 0,
   "metadata": {
    "colab": {},
    "colab_type": "code",
    "id": "yV8femIkTE6o"
   },
   "outputs": [],
   "source": [
    "entry.iloc[0,:].description_block"
   ]
  },
  {
   "cell_type": "markdown",
   "metadata": {
    "colab_type": "text",
    "id": "rVJ2nFHNTE6_"
   },
   "source": [
    "## Some functions to pre-process images"
   ]
  },
  {
   "cell_type": "code",
   "execution_count": 0,
   "metadata": {
    "colab": {},
    "colab_type": "code",
    "id": "XLJvfSg-TE6_"
   },
   "outputs": [],
   "source": [
    "import cv2 as cv2\n",
    "def rgb_to_gray(img):\n",
    "        #grayImage = np.zeros((img.shape[0],img.shape[1]))\n",
    "        R = np.array(img[:, :, 0])\n",
    "        G = np.array(img[:, :, 1])\n",
    "        B = np.array(img[:, :, 2])\n",
    "\n",
    "        R = (R *.299)\n",
    "        G = (G *.587)\n",
    "        B = (B *.114)\n",
    "\n",
    "        Avg = (R+G+B)\n",
    "        grayImage = Avg\n",
    "\n",
    "        #for i in range(3):\n",
    "        #   grayImage[:,:,i] = Avg\n",
    "\n",
    "        return grayImage       \n",
    "\n",
    "\n",
    "\n",
    "def resize_house_images(df):\n",
    "    images = []\n",
    "   \n",
    "    # loop over the indexes of the houses\n",
    "    for entry in df.index.values:\n",
    "        image = cv2.imread('dataset_images/'+ str(entry)+'.jpg')\n",
    "        image = cv2.resize(image, (64, 64))\n",
    "        outputImage=rgb_to_gray(image)       \n",
    "        images.append(outputImage)\n",
    "    # return our set of images\n",
    "    return np.array(images)"
   ]
  },
  {
   "cell_type": "code",
   "execution_count": 0,
   "metadata": {
    "colab": {},
    "colab_type": "code",
    "id": "JtcE8v_hTE7B"
   },
   "outputs": [],
   "source": [
    "res = resize_house_images(df_subset_train.iloc[0:5,:])\n",
    "plt.imshow(res[2])"
   ]
  },
  {
   "cell_type": "code",
   "execution_count": 0,
   "metadata": {
    "colab": {},
    "colab_type": "code",
    "id": "T5zizgj6TE7D"
   },
   "outputs": [],
   "source": [
    "import nltk\n",
    "from nltk import word_tokenize, WordNetLemmatizer\n",
    "from nltk.corpus import stopwords\n",
    "\n",
    "def preprocess(sentence):\n",
    "    lemmatizer = WordNetLemmatizer()\n",
    "    stop_words = (stopwords.words('english'))\n",
    "    stop_words.append('-')\n",
    "    stop_words.append('.')\n",
    "    stop_words.append(',')\n",
    "    stop_words.append(';')\n",
    "    stop_words.append('&')\n",
    "    stop_words.append(':')\n",
    "    stop_words.append(')')\n",
    "    stop_words.append('(')\n",
    "    stop_words.append('\\'s')\n",
    "    stop_words.append('\\'')\n",
    "    stop_words.append('\\x96')    \n",
    "    #stop_words.append(\"selection\")\n",
    "    word_token = word_tokenize(sentence)\n",
    "    S1 = [lemmatizer.lemmatize(word.lower())  for word in word_token if not word.lower() in stop_words ]\n",
    "    return S1"
   ]
  },
  {
   "cell_type": "code",
   "execution_count": 0,
   "metadata": {
    "colab": {},
    "colab_type": "code",
    "id": "WFSHZDsNTE7E"
   },
   "outputs": [],
   "source": [
    "preprocess(dftrain['description_block'].iloc[0])"
   ]
  },
  {
   "cell_type": "code",
   "execution_count": 45,
   "metadata": {
    "colab": {
     "base_uri": "https://localhost:8080/",
     "height": 54
    },
    "colab_type": "code",
    "executionInfo": {
     "elapsed": 826,
     "status": "ok",
     "timestamp": 1587757976998,
     "user": {
      "displayName": "Erin Khoo",
      "photoUrl": "https://lh3.googleusercontent.com/a-/AOh14GhHZgGAOsO63SCrVGuUu9PLAOiJ6M2MBHqs5Xurxw=s64",
      "userId": "12576091199293885088"
     },
     "user_tz": -60
    },
    "id": "5QHC9m4nTE7G",
    "outputId": "a70f62bf-87cf-4304-8fe6-0e0b4e41371f"
   },
   "outputs": [
    {
     "data": {
      "text/plain": [
       "\"A SELECTION OF 4 AND 5 BEDROOM FAMILY HOMES LOCATED BY THE SEA\\n\\r\\nON VIEW BY APPOINTMENT ONLY\\n\\r\\nBRAND NEW SHOW HOME\\n\\r\\nStation Manor is a prestigious 'A' Rated development situated within walking distance of the historic village of Portmarnock. These generously sized, elegant 3, 4 &amp; 5 bedroom homes are ideally located just minutes from the sea front. \\n\\r\\nSituated in a highly sought-after seaside village, Station Manor is an exclusive development of luxurious new homes, designed with exemplary attention to detail throughout, and offering all the relaxation and serenity of a small seaside town with the convenience of city living. \\n\\r\\nFeatures\\n\\r\\nPortmarnock is undoubtedly one of North Dublin's most picturesque locations, with clear views of Lambay Island and Ireland's Eye. Portmarnock is home to the famous 5 mile long stretch of white sandy beaches known as the 'Velvet Strand', which stretches all the way from Malahide to Sutton. Station Manor has this beautiful amenity right on its doorstep. \\n\\r\\nThe development is within close proximity to both Portmarnock and Malahide villages, which host a wealth of amenities including excellent dining options, shops, schools and fantastic sports &amp; leisure facilities. The historic grounds of Malahide Castle &amp; Demesne are a short distance away with over 260 acres of estate parkland and gardens at your disposal, together with a children's playground and Avoca café. \\n\\r\\nStation Manor is ideally located directly across from Portmarnock train station providing direct access to the city centre within 15-20 minutes via the DART commuter line. Portmarnock is also well-served by Dublin Bus with an excellent selection of routes (102, 32, 32X, 42, 42N (Nitelink) and 142). \\n\\r\\nPortmarnock is a mere 10km away from Dublin International Airport, 15km from Dublin City Centre and a short distance from the pretty fishing village at Howth.Location:AMENITIES As well as the famous \\x93Velvet Strand\\x94 beaches, Portmarnock village also boasts two national landmarks, the Martello Tower and the Kiosk, both on the promenade.   The Outdoors The village is surrounded by golf courses on all sides, including Portmarnock Golf Club (host to a number of international professional and amateur events including the Irish Open Championships, the Walker Cup and the Irish Amateur Close Championships). There are also several active sports clubs, such as Portmarnock Tennis Club, Portmarnock A.F.C., Seaview Celtic F.C. and the Portmarnock Sport and Leisure Club. Other golf courses in the area include Malahide Golf Club, Portmarnock Golf Hotel &amp; Links (designed by Bernhard Langer) and Sutton Golf Club. With Naomh Mearnóg serving as the local Gaelic Athletic Association club, all recreational interests will be facilitated within a short distance of your home.   Dining When it comes to dining out, residents of Station Manor can enjoy a vast array of the best eateries Dublin has to offer including McHugh\\x92s Fine Dining, IL Panorama Lali\\x92s and the \\x91Jameson Bar\\x92 at the Portmarnock Links Hotel. In nearby Malahide and Howth, household names such as Avoca, Bon Appetite and Gibneys of Malahide are situated nearby alongside a range of local cafes, bistros and bars, catering to all appetites.  Shopping Portmarnock has a host of local shops bars and businesses. The Pavilions Shopping centre and Airside Retail Park are all within a short drive of Portmarnock Village \\x96 these retail centres include many world famous shopping centres, restaurants and bars.  Schools There is a wide choice of local primary and secondary schools in the area which include primary schools such as \\x96 St. Marnock's National School and St. Helen's \\x96 Portmarnock Community School is the local secondary school.\""
      ]
     },
     "execution_count": 45,
     "metadata": {
      "tags": []
     },
     "output_type": "execute_result"
    }
   ],
   "source": [
    "dftrain['description_block'].iloc[0]"
   ]
  }
 ],
 "metadata": {
  "colab": {
   "collapsed_sections": [],
   "name": "MLcompetition_Erin_Khoo_19225733.ipynb",
   "provenance": []
  },
  "kernelspec": {
   "display_name": "Python 3",
   "language": "python",
   "name": "python3"
  },
  "language_info": {
   "codemirror_mode": {
    "name": "ipython",
    "version": 3
   },
   "file_extension": ".py",
   "mimetype": "text/x-python",
   "name": "python",
   "nbconvert_exporter": "python",
   "pygments_lexer": "ipython3",
   "version": "3.7.6"
  },
  "toc": {
   "base_numbering": 1,
   "nav_menu": {},
   "number_sections": false,
   "sideBar": true,
   "skip_h1_title": false,
   "title_cell": "Table of Contents",
   "title_sidebar": "Contents",
   "toc_cell": false,
   "toc_position": {},
   "toc_section_display": true,
   "toc_window_display": false
  }
 },
 "nbformat": 4,
 "nbformat_minor": 1
}
